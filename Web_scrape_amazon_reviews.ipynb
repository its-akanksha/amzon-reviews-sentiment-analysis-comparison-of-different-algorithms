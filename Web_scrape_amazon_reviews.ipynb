{
  "cells": [
    {
      "cell_type": "code",
      "execution_count": null,
      "metadata": {
        "id": "Fua4WyS0BJ6v"
      },
      "outputs": [],
      "source": [
        "from bs4 import BeautifulSoup\n",
        "import requests\n",
        "import pandas as pd\n",
        "import numpy as np"
      ]
    },
    {
      "cell_type": "code",
      "execution_count": null,
      "metadata": {
        "id": "4y_o09b_BWgo"
      },
      "outputs": [],
      "source": [
        "def get_title(soup):\n",
        "\n",
        "    try:\n",
        "        # Outer Tag Object\n",
        "        title = soup.find(\"span\", attrs={\"id\":'productTitle'})\n",
        "\n",
        "        # Inner NavigatableString Object\n",
        "        title_value = title.text\n",
        "\n",
        "        # Title as a string value\n",
        "        title_string = title_value.strip()\n",
        "\n",
        "    except AttributeError:\n",
        "        title_string = \"\"\n",
        "\n",
        "    return title_string"
      ]
    },
    {
      "cell_type": "code",
      "execution_count": null,
      "metadata": {
        "id": "uOZGcTMGBcT0"
      },
      "outputs": [],
      "source": [
        "def get_username(review):\n",
        "    try:\n",
        "        username = review.find(\"span\", {\"class\": \"a-profile-name\"}).text\n",
        "    except AttributeError:\n",
        "        username = \"\"\n",
        "    return username"
      ]
    },
    {
      "cell_type": "code",
      "execution_count": null,
      "metadata": {
        "id": "wLD0AZkxBgn3"
      },
      "outputs": [],
      "source": [
        "def get_review_text(review):\n",
        "    try:\n",
        "        review_text = review.find(\"span\", {\"class\": \"a-size-base review-text\"}).find(\"span\").text\n",
        "    except AttributeError:\n",
        "        review_text = \"\"\n",
        "    return review_text\n",
        "\n",
        "\n",
        "def get_review_date(review):\n",
        "    try:\n",
        "        review_date = review.find(\"span\", {\"class\": \"a-size-base a-color-secondary review-date\"}).text\n",
        "    except AttributeError:\n",
        "        review_date = \"\"\n",
        "    return review_date"
      ]
    },
    {
      "cell_type": "code",
      "execution_count": null,
      "metadata": {
        "id": "cEUNqr6jBlqQ"
      },
      "outputs": [],
      "source": [
        "def get_rating(review):\n",
        "    try:\n",
        "        rating = review.find(\"span\", {\"class\": \"a-icon-alt\"}).text\n",
        "    except AttributeError:\n",
        "        rating = \"\"\n",
        "    return rating\n",
        "\n",
        "\n",
        "def get_asin(soup):\n",
        "    try:\n",
        "        asin = soup.find(\"div\", attrs={'data-asin': True})['data-asin']\n",
        "    except (AttributeError, TypeError):\n",
        "        asin = None\n",
        "    return asin\n"
      ]
    },
    {
      "cell_type": "code",
      "execution_count": null,
      "metadata": {
        "colab": {
          "background_save": true
        },
        "id": "KX4OCPX2BorB"
      },
      "outputs": [],
      "source": [
        "if __name__ == '__main__':\n",
        "    # add your user agent\n",
        "    HEADERS = ({'User-Agent':'Mozilla/5.0 (Windows NT 10.0; Win64; x64) AppleWebKit/537.36 (KHTML, like Gecko) Chrome/112.0.0.0 Safari/537.36', 'Accept-Language': 'en-US, en;q=0.5'})\n",
        "\n",
        "    # The webpage URL\n",
        "    BASE_URL = \"https://www.amazon.in/s?k=wifi+router+for+home&page={}\"\n",
        "\n",
        "    d = {\"Asin\":[], \"UserName\":[], \"Rating\":[], \"Subject\":[],\"ReviewDate\":[], 'Review':[]}\n",
        "\n",
        "    for page_num in range(1, 21): # Scrape 25 pages to get 5000 reviews\n",
        "        url = BASE_URL.format(page_num)\n",
        "        webpage = requests.get(url, headers=HEADERS)\n",
        "\n",
        "        soup = BeautifulSoup(webpage.content, \"html.parser\")\n",
        "\n",
        "        # Find all links to products on the page\n",
        "        links = soup.find_all(\"a\", attrs={'class':'a-link-normal s-no-outline'})\n",
        "\n",
        "        # Loop over each product link and extract details\n",
        "        for link in links:\n",
        "            product_path = link.get('href')\n",
        "            if '/dp/' in product_path:\n",
        "              product_id = product_path.split('/dp/')[1].split('/')[0]\n",
        "            else:\n",
        "              continue\n",
        "            product_url = \"https://www.amazon.in/dp/\" + product_id\n",
        "            product_page = requests.get(product_url, headers=HEADERS)\n",
        "            product_soup = BeautifulSoup(product_page.content, \"html.parser\")\n",
        "\n",
        "            # Function calls to display all necessary product information\n",
        "            d['Asin'].append(get_asin(product_soup))\n",
        "            d['UserName'].append(get_username(product_soup))\n",
        "            d['Rating'].append(get_rating(product_soup))\n",
        "            d['Subject'].append(get_title(product_soup))\n",
        "            d['ReviewDate'].append(get_review_date(product_soup))\n",
        "            d['Review'].append(get_review_text(product_soup))\n",
        "\n",
        "\n",
        "    amazon_df = pd.DataFrame.from_dict(d)\n",
        "    amazon_df['Asin'].replace('', np.nan, inplace=True)\n",
        "    amazon_df = amazon_df.dropna(subset=['Asin'])\n",
        "    amazon_df.to_csv(\"amazon_data.csv\", header=True, index=False)"
      ]
    },
    {
      "cell_type": "code",
      "execution_count": null,
      "metadata": {
        "colab": {
          "base_uri": "https://localhost:8080/"
        },
        "id": "QstElc7pB0O7",
        "outputId": "d591a15b-2a89-44c0-ef88-d47abcd8cc33"
      },
      "outputs": [
        {
          "data": {
            "text/plain": [
              "(205, 6)"
            ]
          },
          "execution_count": 13,
          "metadata": {},
          "output_type": "execute_result"
        }
      ],
      "source": [
        "amazon_df.shape\n"
      ]
    },
    {
      "cell_type": "code",
      "execution_count": null,
      "metadata": {
        "id": "9E3cTnaGMzbR"
      },
      "outputs": [],
      "source": []
    }
  ],
  "metadata": {
    "colab": {
      "provenance": []
    },
    "kernelspec": {
      "display_name": "Python 3",
      "name": "python3"
    },
    "language_info": {
      "name": "python"
    }
  },
  "nbformat": 4,
  "nbformat_minor": 0
}